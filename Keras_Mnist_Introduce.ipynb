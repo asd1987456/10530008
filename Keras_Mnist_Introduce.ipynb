{
  "nbformat": 4,
  "nbformat_minor": 0,
  "metadata": {
    "colab": {
      "name": "Keras_Mnist_Introduce.ipynb",
      "version": "0.3.2",
      "provenance": []
    },
    "kernelspec": {
      "display_name": "Python 3",
      "language": "python",
      "name": "python3"
    }
  },
  "cells": [
    {
      "metadata": {
        "id": "QvZEhbjv4xEt",
        "colab_type": "text"
      },
      "cell_type": "markdown",
      "source": [
        "# 資料準備"
      ]
    },
    {
      "metadata": {
        "id": "sSgdiYdbGjTx",
        "colab_type": "code",
        "colab": {}
      },
      "cell_type": "code",
      "source": [
        ""
      ],
      "execution_count": 0,
      "outputs": []
    },
    {
      "metadata": {
        "id": "JGlvfpUy4xEu",
        "colab_type": "code",
        "colab": {}
      },
      "cell_type": "code",
      "source": [
        "import numpy as np\n",
        "import pandas as pd\n",
        "from keras.utils import np_utils\n",
        "np.random.seed(10)"
      ],
      "execution_count": 0,
      "outputs": []
    },
    {
      "metadata": {
        "id": "Tzpu0vIi4xE0",
        "colab_type": "code",
        "colab": {}
      },
      "cell_type": "code",
      "source": [
        "from keras.datasets import mnist"
      ],
      "execution_count": 0,
      "outputs": []
    },
    {
      "metadata": {
        "id": "Ly42ZDiZ4xE2",
        "colab_type": "code",
        "colab": {}
      },
      "cell_type": "code",
      "source": [
        "(x_train_image, y_train_label), \\\n",
        "(x_test_image, y_test_label) = mnist.load_data()"
      ],
      "execution_count": 0,
      "outputs": []
    },
    {
      "metadata": {
        "id": "PBInRphh4xE5",
        "colab_type": "code",
        "colab": {
          "base_uri": "https://localhost:8080/",
          "height": 51
        },
        "outputId": "f001f19a-e915-48d4-f773-37dacac87bf3"
      },
      "cell_type": "code",
      "source": [
        "print('train data=',len(x_train_image))\n",
        "print(' test data=',len(x_test_image))"
      ],
      "execution_count": 139,
      "outputs": [
        {
          "output_type": "stream",
          "text": [
            "train data= 60000\n",
            " test data= 10000\n"
          ],
          "name": "stdout"
        }
      ]
    },
    {
      "metadata": {
        "id": "SC8HghBe4xE8",
        "colab_type": "code",
        "colab": {}
      },
      "cell_type": "code",
      "source": [
        "y_train_label=[0,1,2,3,4,5,6,7,8,9]"
      ],
      "execution_count": 0,
      "outputs": []
    },
    {
      "metadata": {
        "id": "jJRgcP9Y4xFA",
        "colab_type": "code",
        "colab": {}
      },
      "cell_type": "code",
      "source": [
        "import matplotlib.pyplot as plt\n",
        "def plot_image(image):\n",
        "    fig = plt.gcf()\n",
        "    fig.set_size_inches(2, 2)\n",
        "    plt.imshow(image, cmap='binary')\n",
        "    plt.axis('off')\n",
        "    plt.show()"
      ],
      "execution_count": 0,
      "outputs": []
    },
    {
      "metadata": {
        "id": "eG_JOMJ34xFC",
        "colab_type": "code",
        "colab": {
          "base_uri": "https://localhost:8080/",
          "height": 34
        },
        "outputId": "23126937-d7ae-4c5c-e783-1b414802e1fe"
      },
      "cell_type": "code",
      "source": [
        "y_train_label[0]"
      ],
      "execution_count": 142,
      "outputs": [
        {
          "output_type": "execute_result",
          "data": {
            "text/plain": [
              "0"
            ]
          },
          "metadata": {
            "tags": []
          },
          "execution_count": 142
        }
      ]
    },
    {
      "metadata": {
        "id": "hWTv-erq4xFF",
        "colab_type": "code",
        "colab": {
          "base_uri": "https://localhost:8080/",
          "height": 34
        },
        "outputId": "dcadc36e-c2d3-4f83-8a2e-eb6e3ca17ed0"
      },
      "cell_type": "code",
      "source": [
        "y_train_label[0]"
      ],
      "execution_count": 143,
      "outputs": [
        {
          "output_type": "execute_result",
          "data": {
            "text/plain": [
              "0"
            ]
          },
          "metadata": {
            "tags": []
          },
          "execution_count": 143
        }
      ]
    },
    {
      "metadata": {
        "id": "ZkyyAX5z4xFJ",
        "colab_type": "code",
        "colab": {}
      },
      "cell_type": "code",
      "source": [
        "import matplotlib.pyplot as plt\n",
        "def plot_images_labels_prediction(images,labels,\n",
        "                                  prediction,idx,num=10):\n",
        "    fig = plt.gcf()\n",
        "    fig.set_size_inches(12, 14)\n",
        "    if num>25: num=25 \n",
        "    for i in range(0, num):\n",
        "        ax=plt.subplot(1,10, 1+i)\n",
        "        ax.imshow(images[idx], cmap='binary')\n",
        "        title= \"label=\" +str(labels[idx])\n",
        "        if len(prediction)>0:\n",
        "            title+=\",predict=\"+str(prediction[idx]) \n",
        "            \n",
        "        ax.set_title(title,fontsize=10) \n",
        "        ax.set_xticks([]);ax.set_yticks([])        \n",
        "        idx+=1 \n",
        "    plt.show()"
      ],
      "execution_count": 0,
      "outputs": []
    },
    {
      "metadata": {
        "id": "IzPHvRv_4xFK",
        "colab_type": "code",
        "colab": {}
      },
      "cell_type": "code",
      "source": [
        "x_train_image[0]=x_test_image[10]\n",
        "x_train_image[1]=x_train_image[3]\n",
        "x_train_image[2]=x_train_image[5]\n",
        "x_train_image[3]=x_train_image[7]\n",
        "x_train_image[4]=x_train_image[9]\n",
        "x_train_image[5]=x_test_image[8]\n",
        "x_train_image[6]=x_test_image[11]\n",
        "x_train_image[7]=x_test_image[0]\n",
        "x_train_image[8]=x_train_image[17]\n",
        "x_train_image[9]=x_test_image[7]\n",
        "y_test_label[0]=0\n",
        "y_test_label[1]=1\n",
        "y_test_label[2]=2\n",
        "y_test_label[3]=3\n",
        "y_test_label[4]=4\n",
        "y_test_label[5]=5\n",
        "y_test_label[6]=6\n",
        "y_test_label[7]=7\n",
        "y_test_label[8]=8\n",
        "y_test_label[9]=9"
      ],
      "execution_count": 0,
      "outputs": []
    },
    {
      "metadata": {
        "id": "D5Z-mXpW4xFO",
        "colab_type": "code",
        "colab": {
          "base_uri": "https://localhost:8080/",
          "height": 102
        },
        "outputId": "b8c4168d-0644-466d-9cea-e3fb810f5cc2"
      },
      "cell_type": "code",
      "source": [
        "plot_images_labels_prediction(x_train_image,y_test_label,[],0,10)"
      ],
      "execution_count": 146,
      "outputs": [
        {
          "output_type": "display_data",
          "data": {
            "image/png": "[encoded data removed]",
            "text/plain": [
              "<matplotlib.figure.Figure at 0x7fee7eff0780>"
            ]
          },
          "metadata": {
            "tags": []
          }
        }
      ]
    },
    {
      "metadata": {
        "id": "7mrTgkfS4xFT",
        "colab_type": "code",
        "colab": {}
      },
      "cell_type": "code",
      "source": [
        ""
      ],
      "execution_count": 0,
      "outputs": []
    },
    {
      "metadata": {
        "id": "U_SWGEVP4xFW",
        "colab_type": "text"
      },
      "cell_type": "markdown",
      "source": [
        "# 將images進行預處理"
      ]
    },
    {
      "metadata": {
        "id": "rtMv85MT4xFX",
        "colab_type": "code",
        "colab": {}
      },
      "cell_type": "code",
      "source": [
        "print ('x_train_image:',x_train_image.shape)\n",
        "print ('y_train_label:',y_train_label.shape)"
      ],
      "execution_count": 0,
      "outputs": []
    },
    {
      "metadata": {
        "id": "15X7fCly4xFa",
        "colab_type": "code",
        "colab": {}
      },
      "cell_type": "code",
      "source": [
        "x_Train =x_train_image.reshape(60000, 784).astype('float32')\n",
        "x_Test = x_test_image.reshape(10000, 784).astype('float32')"
      ],
      "execution_count": 0,
      "outputs": []
    },
    {
      "metadata": {
        "id": "vPcJfY9b4xFd",
        "colab_type": "code",
        "colab": {}
      },
      "cell_type": "code",
      "source": [
        "print ('x_train:',x_Train.shape)\n",
        "print ('x_test:',x_Test.shape)"
      ],
      "execution_count": 0,
      "outputs": []
    },
    {
      "metadata": {
        "id": "-tKVwDgW4xFf",
        "colab_type": "code",
        "colab": {}
      },
      "cell_type": "code",
      "source": [
        "x_train_image[0]"
      ],
      "execution_count": 0,
      "outputs": []
    },
    {
      "metadata": {
        "id": "PaFjv_ex4xFj",
        "colab_type": "code",
        "colab": {}
      },
      "cell_type": "code",
      "source": [
        "x_Train_normalize = x_Train/ 255\n",
        "x_Test_normalize = x_Test/ 255"
      ],
      "execution_count": 0,
      "outputs": []
    },
    {
      "metadata": {
        "id": "8qrMRW2n4xFl",
        "colab_type": "code",
        "colab": {}
      },
      "cell_type": "code",
      "source": [
        "x_Train_normalize[0]"
      ],
      "execution_count": 0,
      "outputs": []
    },
    {
      "metadata": {
        "id": "6cjaT9Ne4xFp",
        "colab_type": "text"
      },
      "cell_type": "markdown",
      "source": [
        "# one hot encode outputs"
      ]
    },
    {
      "metadata": {
        "id": "fKMmObZV4xFq",
        "colab_type": "code",
        "colab": {}
      },
      "cell_type": "code",
      "source": [
        "y_train_label[:5]"
      ],
      "execution_count": 0,
      "outputs": []
    },
    {
      "metadata": {
        "id": "WocmUvOb4xFs",
        "colab_type": "code",
        "colab": {}
      },
      "cell_type": "code",
      "source": [
        "y_TrainOneHot = np_utils.to_categorical(y_train_label)\n",
        "y_TestOneHot = np_utils.to_categorical(y_test_label)"
      ],
      "execution_count": 0,
      "outputs": []
    },
    {
      "metadata": {
        "id": "aYb335Ko4xFv",
        "colab_type": "code",
        "colab": {}
      },
      "cell_type": "code",
      "source": [
        "y_TrainOneHot[:5]"
      ],
      "execution_count": 0,
      "outputs": []
    }
  ]
}